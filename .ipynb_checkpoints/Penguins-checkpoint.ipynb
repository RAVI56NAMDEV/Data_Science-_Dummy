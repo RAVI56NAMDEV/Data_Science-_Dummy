{
 "cells": [
  {
   "cell_type": "markdown",
   "id": "ba161a2b",
   "metadata": {},
   "source": [
    "\n",
    "<h1 \n",
    "   style='background-color:#4b5320;\n",
    "          text-align:center;\n",
    "          color:#f0f8ff;\n",
    "          text-decoration:underline'>\n",
    "    Pengiuns Dataset\n",
    "</h1>"
   ]
  },
  {
   "cell_type": "markdown",
   "id": "858bf83e",
   "metadata": {},
   "source": [
    "<img src=\"https://external-content.duckduckgo.com/iu/?u=https%3A%2F%2Fcontent.assets.pressassociation.io%2F2018%2F03%2F08170236%2F55ddff0a-9d87-4c7c-b064-644e228e6e32-1366x1024.jpg&f=1&nofb=1\" width=500 height=300 style='margin-top: 1px'>"
   ]
  },
  {
   "cell_type": "code",
   "execution_count": 1,
   "id": "9e378a17",
   "metadata": {},
   "outputs": [],
   "source": [
    "import pandas as pd\n",
    "import matplotlib.pyplot as plt\n",
    "import numpy as np\n",
    "from scipy.stats import kurtosis,skew\n",
    "\n",
    "import warnings\n",
    "warnings.filterwarnings(\"ignore\")"
   ]
  },
  {
   "cell_type": "code",
   "execution_count": 59,
   "id": "59b4aa2a",
   "metadata": {},
   "outputs": [],
   "source": [
    "pg=pd.read_csv('https://raw.githubusercontent.com/slmsshk/DataSet/main/penguins.csv').dropna()"
   ]
  },
  {
   "cell_type": "code",
   "execution_count": 3,
   "id": "b1b8603b",
   "metadata": {},
   "outputs": [
    {
     "data": {
      "text/html": [
       "<div>\n",
       "<style scoped>\n",
       "    .dataframe tbody tr th:only-of-type {\n",
       "        vertical-align: middle;\n",
       "    }\n",
       "\n",
       "    .dataframe tbody tr th {\n",
       "        vertical-align: top;\n",
       "    }\n",
       "\n",
       "    .dataframe thead th {\n",
       "        text-align: right;\n",
       "    }\n",
       "</style>\n",
       "<table border=\"1\" class=\"dataframe\">\n",
       "  <thead>\n",
       "    <tr style=\"text-align: right;\">\n",
       "      <th></th>\n",
       "      <th>species</th>\n",
       "      <th>island</th>\n",
       "      <th>bill_length_mm</th>\n",
       "      <th>bill_depth_mm</th>\n",
       "      <th>flipper_length_mm</th>\n",
       "      <th>body_mass_g</th>\n",
       "      <th>sex</th>\n",
       "    </tr>\n",
       "  </thead>\n",
       "  <tbody>\n",
       "    <tr>\n",
       "      <th>0</th>\n",
       "      <td>Adelie</td>\n",
       "      <td>Torgersen</td>\n",
       "      <td>39.1</td>\n",
       "      <td>18.7</td>\n",
       "      <td>181.0</td>\n",
       "      <td>3750.0</td>\n",
       "      <td>MALE</td>\n",
       "    </tr>\n",
       "    <tr>\n",
       "      <th>1</th>\n",
       "      <td>Adelie</td>\n",
       "      <td>Torgersen</td>\n",
       "      <td>39.5</td>\n",
       "      <td>17.4</td>\n",
       "      <td>186.0</td>\n",
       "      <td>3800.0</td>\n",
       "      <td>FEMALE</td>\n",
       "    </tr>\n",
       "    <tr>\n",
       "      <th>2</th>\n",
       "      <td>Adelie</td>\n",
       "      <td>Torgersen</td>\n",
       "      <td>40.3</td>\n",
       "      <td>18.0</td>\n",
       "      <td>195.0</td>\n",
       "      <td>3250.0</td>\n",
       "      <td>FEMALE</td>\n",
       "    </tr>\n",
       "    <tr>\n",
       "      <th>4</th>\n",
       "      <td>Adelie</td>\n",
       "      <td>Torgersen</td>\n",
       "      <td>36.7</td>\n",
       "      <td>19.3</td>\n",
       "      <td>193.0</td>\n",
       "      <td>3450.0</td>\n",
       "      <td>FEMALE</td>\n",
       "    </tr>\n",
       "    <tr>\n",
       "      <th>5</th>\n",
       "      <td>Adelie</td>\n",
       "      <td>Torgersen</td>\n",
       "      <td>39.3</td>\n",
       "      <td>20.6</td>\n",
       "      <td>190.0</td>\n",
       "      <td>3650.0</td>\n",
       "      <td>MALE</td>\n",
       "    </tr>\n",
       "  </tbody>\n",
       "</table>\n",
       "</div>"
      ],
      "text/plain": [
       "  species     island  bill_length_mm  bill_depth_mm  flipper_length_mm  \\\n",
       "0  Adelie  Torgersen            39.1           18.7              181.0   \n",
       "1  Adelie  Torgersen            39.5           17.4              186.0   \n",
       "2  Adelie  Torgersen            40.3           18.0              195.0   \n",
       "4  Adelie  Torgersen            36.7           19.3              193.0   \n",
       "5  Adelie  Torgersen            39.3           20.6              190.0   \n",
       "\n",
       "   body_mass_g     sex  \n",
       "0       3750.0    MALE  \n",
       "1       3800.0  FEMALE  \n",
       "2       3250.0  FEMALE  \n",
       "4       3450.0  FEMALE  \n",
       "5       3650.0    MALE  "
      ]
     },
     "execution_count": 3,
     "metadata": {},
     "output_type": "execute_result"
    }
   ],
   "source": [
    "pg.head()"
   ]
  },
  {
   "cell_type": "code",
   "execution_count": 4,
   "id": "d3c01059",
   "metadata": {},
   "outputs": [
    {
     "name": "stdout",
     "output_type": "stream",
     "text": [
      "<class 'pandas.core.frame.DataFrame'>\n",
      "Int64Index: 333 entries, 0 to 343\n",
      "Data columns (total 7 columns):\n",
      " #   Column             Non-Null Count  Dtype  \n",
      "---  ------             --------------  -----  \n",
      " 0   species            333 non-null    object \n",
      " 1   island             333 non-null    object \n",
      " 2   bill_length_mm     333 non-null    float64\n",
      " 3   bill_depth_mm      333 non-null    float64\n",
      " 4   flipper_length_mm  333 non-null    float64\n",
      " 5   body_mass_g        333 non-null    float64\n",
      " 6   sex                333 non-null    object \n",
      "dtypes: float64(4), object(3)\n",
      "memory usage: 20.8+ KB\n"
     ]
    }
   ],
   "source": [
    "pg.info()"
   ]
  },
  {
   "cell_type": "code",
   "execution_count": 5,
   "id": "a55102e6",
   "metadata": {},
   "outputs": [
    {
     "data": {
      "text/plain": [
       "species              0\n",
       "island               0\n",
       "bill_length_mm       0\n",
       "bill_depth_mm        0\n",
       "flipper_length_mm    0\n",
       "body_mass_g          0\n",
       "sex                  0\n",
       "dtype: int64"
      ]
     },
     "execution_count": 5,
     "metadata": {},
     "output_type": "execute_result"
    }
   ],
   "source": [
    "pg.isnull().sum()"
   ]
  },
  {
   "cell_type": "markdown",
   "id": "6d84de52",
   "metadata": {},
   "source": [
    "<p style='text-align:center;\n",
    "          color:\t#f2f3f4;\n",
    "          font-size:20px;\n",
    "          background-color:#8db600'>\n",
    "    Label Encoding\n",
    "                         </p></div>"
   ]
  },
  {
   "cell_type": "code",
   "execution_count": 6,
   "id": "66101057",
   "metadata": {},
   "outputs": [],
   "source": [
    "from sklearn.preprocessing import LabelEncoder"
   ]
  },
  {
   "cell_type": "code",
   "execution_count": 7,
   "id": "5be2fea7",
   "metadata": {},
   "outputs": [
    {
     "data": {
      "text/plain": [
       "1    168\n",
       "0    165\n",
       "Name: sex, dtype: int64"
      ]
     },
     "execution_count": 7,
     "metadata": {},
     "output_type": "execute_result"
    }
   ],
   "source": [
    "LE=LabelEncoder()\n",
    "pg['sex']=LE.fit_transform(pg['sex'])\n",
    "pg['sex'].value_counts()"
   ]
  },
  {
   "cell_type": "code",
   "execution_count": 85,
   "id": "05c1a1d8",
   "metadata": {},
   "outputs": [],
   "source": [
    "pg.species=LE.fit_transform(pg['species'])"
   ]
  },
  {
   "cell_type": "markdown",
   "id": "d7c155e3",
   "metadata": {},
   "source": [
    "X & Y"
   ]
  },
  {
   "cell_type": "code",
   "execution_count": 86,
   "id": "a8d44449",
   "metadata": {},
   "outputs": [],
   "source": [
    "x,y=pg.iloc[:,1:],pg['species']"
   ]
  },
  {
   "cell_type": "code",
   "execution_count": 89,
   "id": "2d107acc",
   "metadata": {},
   "outputs": [
    {
     "data": {
      "text/plain": [
       "(333, 6)"
      ]
     },
     "execution_count": 89,
     "metadata": {},
     "output_type": "execute_result"
    }
   ],
   "source": [
    "x.shape"
   ]
  },
  {
   "cell_type": "code",
   "execution_count": 88,
   "id": "c7ebf99a",
   "metadata": {},
   "outputs": [
    {
     "data": {
      "text/plain": [
       "(333,)"
      ]
     },
     "execution_count": 88,
     "metadata": {},
     "output_type": "execute_result"
    }
   ],
   "source": [
    "y.shape"
   ]
  },
  {
   "cell_type": "code",
   "execution_count": 84,
   "id": "25a8687c",
   "metadata": {},
   "outputs": [
    {
     "data": {
      "text/plain": [
       "Adelie       146\n",
       "Gentoo       119\n",
       "Chinstrap     68\n",
       "Name: species, dtype: int64"
      ]
     },
     "execution_count": 84,
     "metadata": {},
     "output_type": "execute_result"
    }
   ],
   "source": [
    "y.value_counts()"
   ]
  },
  {
   "cell_type": "markdown",
   "id": "656de314",
   "metadata": {},
   "source": [
    "<p> OneHotEncoding</p>"
   ]
  },
  {
   "cell_type": "code",
   "execution_count": 12,
   "id": "85dc8364",
   "metadata": {},
   "outputs": [
    {
     "data": {
      "text/plain": [
       "Biscoe       163\n",
       "Dream        123\n",
       "Torgersen     47\n",
       "Name: island, dtype: int64"
      ]
     },
     "execution_count": 12,
     "metadata": {},
     "output_type": "execute_result"
    }
   ],
   "source": [
    "x.island.value_counts()"
   ]
  },
  {
   "cell_type": "markdown",
   "id": "70b78947",
   "metadata": {},
   "source": [
    "<p style='text-align:center;\n",
    "          color:\t#f2f3f4;\n",
    "          font-size:20px;\n",
    "          background-color:#8db600;\n",
    "          '>OneHotEncoding</p>"
   ]
  },
  {
   "cell_type": "code",
   "execution_count": 13,
   "id": "090ba51d",
   "metadata": {},
   "outputs": [],
   "source": [
    "from sklearn.preprocessing import OneHotEncoder"
   ]
  },
  {
   "cell_type": "code",
   "execution_count": 14,
   "id": "1bd220fb",
   "metadata": {},
   "outputs": [],
   "source": [
    "ohe=OneHotEncoder(handle_unknown='ignore',sparse=False)\n",
    "island=pd.DataFrame(ohe.fit_transform(x[['island']]),columns=['Biscoe_island','Dream_island','Torgersen_island'])"
   ]
  },
  {
   "cell_type": "code",
   "execution_count": 15,
   "id": "16082e6b",
   "metadata": {},
   "outputs": [
    {
     "data": {
      "text/plain": [
       "[array(['Biscoe', 'Dream', 'Torgersen'], dtype=object)]"
      ]
     },
     "execution_count": 15,
     "metadata": {},
     "output_type": "execute_result"
    }
   ],
   "source": [
    "ohe.categories_"
   ]
  },
  {
   "cell_type": "code",
   "execution_count": 16,
   "id": "fc3875d9",
   "metadata": {},
   "outputs": [
    {
     "data": {
      "text/plain": [
       "array([['Biscoe']], dtype=object)"
      ]
     },
     "execution_count": 16,
     "metadata": {},
     "output_type": "execute_result"
    }
   ],
   "source": [
    "ohe.inverse_transform([[1,0,0]])"
   ]
  },
  {
   "cell_type": "code",
   "execution_count": 17,
   "id": "47827add",
   "metadata": {},
   "outputs": [
    {
     "data": {
      "text/html": [
       "<div>\n",
       "<style scoped>\n",
       "    .dataframe tbody tr th:only-of-type {\n",
       "        vertical-align: middle;\n",
       "    }\n",
       "\n",
       "    .dataframe tbody tr th {\n",
       "        vertical-align: top;\n",
       "    }\n",
       "\n",
       "    .dataframe thead th {\n",
       "        text-align: right;\n",
       "    }\n",
       "</style>\n",
       "<table border=\"1\" class=\"dataframe\">\n",
       "  <thead>\n",
       "    <tr style=\"text-align: right;\">\n",
       "      <th></th>\n",
       "      <th>Biscoe_island</th>\n",
       "      <th>Dream_island</th>\n",
       "      <th>Torgersen_island</th>\n",
       "      <th>bill_length_mm</th>\n",
       "      <th>bill_depth_mm</th>\n",
       "      <th>flipper_length_mm</th>\n",
       "      <th>body_mass_g</th>\n",
       "      <th>sex</th>\n",
       "    </tr>\n",
       "  </thead>\n",
       "  <tbody>\n",
       "    <tr>\n",
       "      <th>0</th>\n",
       "      <td>0.0</td>\n",
       "      <td>0.0</td>\n",
       "      <td>1.0</td>\n",
       "      <td>39.1</td>\n",
       "      <td>18.7</td>\n",
       "      <td>181.0</td>\n",
       "      <td>3750.0</td>\n",
       "      <td>1</td>\n",
       "    </tr>\n",
       "    <tr>\n",
       "      <th>1</th>\n",
       "      <td>0.0</td>\n",
       "      <td>0.0</td>\n",
       "      <td>1.0</td>\n",
       "      <td>39.5</td>\n",
       "      <td>17.4</td>\n",
       "      <td>186.0</td>\n",
       "      <td>3800.0</td>\n",
       "      <td>0</td>\n",
       "    </tr>\n",
       "    <tr>\n",
       "      <th>2</th>\n",
       "      <td>0.0</td>\n",
       "      <td>0.0</td>\n",
       "      <td>1.0</td>\n",
       "      <td>40.3</td>\n",
       "      <td>18.0</td>\n",
       "      <td>195.0</td>\n",
       "      <td>3250.0</td>\n",
       "      <td>0</td>\n",
       "    </tr>\n",
       "    <tr>\n",
       "      <th>4</th>\n",
       "      <td>0.0</td>\n",
       "      <td>0.0</td>\n",
       "      <td>1.0</td>\n",
       "      <td>36.7</td>\n",
       "      <td>19.3</td>\n",
       "      <td>193.0</td>\n",
       "      <td>3450.0</td>\n",
       "      <td>0</td>\n",
       "    </tr>\n",
       "    <tr>\n",
       "      <th>5</th>\n",
       "      <td>0.0</td>\n",
       "      <td>0.0</td>\n",
       "      <td>1.0</td>\n",
       "      <td>39.3</td>\n",
       "      <td>20.6</td>\n",
       "      <td>190.0</td>\n",
       "      <td>3650.0</td>\n",
       "      <td>1</td>\n",
       "    </tr>\n",
       "  </tbody>\n",
       "</table>\n",
       "</div>"
      ],
      "text/plain": [
       "   Biscoe_island  Dream_island  Torgersen_island  bill_length_mm  \\\n",
       "0            0.0           0.0               1.0            39.1   \n",
       "1            0.0           0.0               1.0            39.5   \n",
       "2            0.0           0.0               1.0            40.3   \n",
       "4            0.0           0.0               1.0            36.7   \n",
       "5            0.0           0.0               1.0            39.3   \n",
       "\n",
       "   bill_depth_mm  flipper_length_mm  body_mass_g  sex  \n",
       "0           18.7              181.0       3750.0    1  \n",
       "1           17.4              186.0       3800.0    0  \n",
       "2           18.0              195.0       3250.0    0  \n",
       "4           19.3              193.0       3450.0    0  \n",
       "5           20.6              190.0       3650.0    1  "
      ]
     },
     "execution_count": 17,
     "metadata": {},
     "output_type": "execute_result"
    }
   ],
   "source": [
    "df=pd.concat([island,x],axis=1,join='inner').drop('island',axis=1)\n",
    "df.head()"
   ]
  },
  {
   "cell_type": "markdown",
   "id": "bcaf22c2",
   "metadata": {},
   "source": [
    "<p style='color:#ff033e;font-size:20px'><em> pd.get_dummies</em></p>"
   ]
  },
  {
   "cell_type": "code",
   "execution_count": 19,
   "id": "5e39a507",
   "metadata": {},
   "outputs": [
    {
     "data": {
      "text/html": [
       "<div>\n",
       "<style scoped>\n",
       "    .dataframe tbody tr th:only-of-type {\n",
       "        vertical-align: middle;\n",
       "    }\n",
       "\n",
       "    .dataframe tbody tr th {\n",
       "        vertical-align: top;\n",
       "    }\n",
       "\n",
       "    .dataframe thead th {\n",
       "        text-align: right;\n",
       "    }\n",
       "</style>\n",
       "<table border=\"1\" class=\"dataframe\">\n",
       "  <thead>\n",
       "    <tr style=\"text-align: right;\">\n",
       "      <th></th>\n",
       "      <th>bill_length_mm</th>\n",
       "      <th>bill_depth_mm</th>\n",
       "      <th>flipper_length_mm</th>\n",
       "      <th>body_mass_g</th>\n",
       "      <th>sex</th>\n",
       "      <th>island_Biscoe</th>\n",
       "      <th>island_Dream</th>\n",
       "      <th>island_Torgersen</th>\n",
       "    </tr>\n",
       "  </thead>\n",
       "  <tbody>\n",
       "    <tr>\n",
       "      <th>0</th>\n",
       "      <td>39.1</td>\n",
       "      <td>18.7</td>\n",
       "      <td>181.0</td>\n",
       "      <td>3750.0</td>\n",
       "      <td>1</td>\n",
       "      <td>0</td>\n",
       "      <td>0</td>\n",
       "      <td>1</td>\n",
       "    </tr>\n",
       "    <tr>\n",
       "      <th>1</th>\n",
       "      <td>39.5</td>\n",
       "      <td>17.4</td>\n",
       "      <td>186.0</td>\n",
       "      <td>3800.0</td>\n",
       "      <td>0</td>\n",
       "      <td>0</td>\n",
       "      <td>0</td>\n",
       "      <td>1</td>\n",
       "    </tr>\n",
       "    <tr>\n",
       "      <th>2</th>\n",
       "      <td>40.3</td>\n",
       "      <td>18.0</td>\n",
       "      <td>195.0</td>\n",
       "      <td>3250.0</td>\n",
       "      <td>0</td>\n",
       "      <td>0</td>\n",
       "      <td>0</td>\n",
       "      <td>1</td>\n",
       "    </tr>\n",
       "    <tr>\n",
       "      <th>4</th>\n",
       "      <td>36.7</td>\n",
       "      <td>19.3</td>\n",
       "      <td>193.0</td>\n",
       "      <td>3450.0</td>\n",
       "      <td>0</td>\n",
       "      <td>0</td>\n",
       "      <td>0</td>\n",
       "      <td>1</td>\n",
       "    </tr>\n",
       "    <tr>\n",
       "      <th>5</th>\n",
       "      <td>39.3</td>\n",
       "      <td>20.6</td>\n",
       "      <td>190.0</td>\n",
       "      <td>3650.0</td>\n",
       "      <td>1</td>\n",
       "      <td>0</td>\n",
       "      <td>0</td>\n",
       "      <td>1</td>\n",
       "    </tr>\n",
       "  </tbody>\n",
       "</table>\n",
       "</div>"
      ],
      "text/plain": [
       "   bill_length_mm  bill_depth_mm  flipper_length_mm  body_mass_g  sex  \\\n",
       "0            39.1           18.7              181.0       3750.0    1   \n",
       "1            39.5           17.4              186.0       3800.0    0   \n",
       "2            40.3           18.0              195.0       3250.0    0   \n",
       "4            36.7           19.3              193.0       3450.0    0   \n",
       "5            39.3           20.6              190.0       3650.0    1   \n",
       "\n",
       "   island_Biscoe  island_Dream  island_Torgersen  \n",
       "0              0             0                 1  \n",
       "1              0             0                 1  \n",
       "2              0             0                 1  \n",
       "4              0             0                 1  \n",
       "5              0             0                 1  "
      ]
     },
     "execution_count": 19,
     "metadata": {},
     "output_type": "execute_result"
    }
   ],
   "source": [
    "df2=pd.get_dummies(x)\n",
    "df2.head()"
   ]
  },
  {
   "cell_type": "markdown",
   "id": "975976dd",
   "metadata": {},
   "source": [
    "<p style='color:\t#f2f3f4;\n",
    "          background-color:\t#a4c639;\n",
    "          font-size:20px;\n",
    "          text-align:center' >Scaling</p>"
   ]
  },
  {
   "cell_type": "code",
   "execution_count": 20,
   "id": "825075b6",
   "metadata": {},
   "outputs": [],
   "source": [
    "from sklearn.preprocessing import StandardScaler"
   ]
  },
  {
   "cell_type": "code",
   "execution_count": 21,
   "id": "cc9309b3",
   "metadata": {},
   "outputs": [
    {
     "data": {
      "text/plain": [
       "Index(['Biscoe_island', 'Dream_island', 'Torgersen_island', 'bill_length_mm',\n",
       "       'bill_depth_mm', 'flipper_length_mm', 'body_mass_g', 'sex'],\n",
       "      dtype='object')"
      ]
     },
     "execution_count": 21,
     "metadata": {},
     "output_type": "execute_result"
    }
   ],
   "source": [
    "df.columns"
   ]
  },
  {
   "cell_type": "code",
   "execution_count": 22,
   "id": "a289f569",
   "metadata": {},
   "outputs": [],
   "source": [
    "sc=StandardScaler()\n",
    "Xscl=pd.DataFrame(sc.fit_transform(df),columns=df.columns)"
   ]
  },
  {
   "cell_type": "code",
   "execution_count": 23,
   "id": "421789c0",
   "metadata": {},
   "outputs": [
    {
     "data": {
      "text/html": [
       "<div>\n",
       "<style scoped>\n",
       "    .dataframe tbody tr th:only-of-type {\n",
       "        vertical-align: middle;\n",
       "    }\n",
       "\n",
       "    .dataframe tbody tr th {\n",
       "        vertical-align: top;\n",
       "    }\n",
       "\n",
       "    .dataframe thead th {\n",
       "        text-align: right;\n",
       "    }\n",
       "</style>\n",
       "<table border=\"1\" class=\"dataframe\">\n",
       "  <thead>\n",
       "    <tr style=\"text-align: right;\">\n",
       "      <th></th>\n",
       "      <th>Biscoe_island</th>\n",
       "      <th>Dream_island</th>\n",
       "      <th>Torgersen_island</th>\n",
       "      <th>bill_length_mm</th>\n",
       "      <th>bill_depth_mm</th>\n",
       "      <th>flipper_length_mm</th>\n",
       "      <th>body_mass_g</th>\n",
       "      <th>sex</th>\n",
       "    </tr>\n",
       "  </thead>\n",
       "  <tbody>\n",
       "    <tr>\n",
       "      <th>0</th>\n",
       "      <td>-0.981650</td>\n",
       "      <td>-0.782266</td>\n",
       "      <td>2.591194</td>\n",
       "      <td>-0.872377</td>\n",
       "      <td>0.755911</td>\n",
       "      <td>-1.410034</td>\n",
       "      <td>-0.540325</td>\n",
       "      <td>0.993846</td>\n",
       "    </tr>\n",
       "    <tr>\n",
       "      <th>1</th>\n",
       "      <td>-0.981650</td>\n",
       "      <td>-0.782266</td>\n",
       "      <td>2.591194</td>\n",
       "      <td>-0.798966</td>\n",
       "      <td>0.092737</td>\n",
       "      <td>-1.047627</td>\n",
       "      <td>-0.476941</td>\n",
       "      <td>-1.006192</td>\n",
       "    </tr>\n",
       "    <tr>\n",
       "      <th>2</th>\n",
       "      <td>-0.981650</td>\n",
       "      <td>-0.782266</td>\n",
       "      <td>2.591194</td>\n",
       "      <td>-0.652144</td>\n",
       "      <td>0.398817</td>\n",
       "      <td>-0.395293</td>\n",
       "      <td>-1.174160</td>\n",
       "      <td>-1.006192</td>\n",
       "    </tr>\n",
       "    <tr>\n",
       "      <th>3</th>\n",
       "      <td>-0.981650</td>\n",
       "      <td>-0.782266</td>\n",
       "      <td>2.591194</td>\n",
       "      <td>-1.312842</td>\n",
       "      <td>1.061991</td>\n",
       "      <td>-0.540256</td>\n",
       "      <td>-0.920626</td>\n",
       "      <td>-1.006192</td>\n",
       "    </tr>\n",
       "    <tr>\n",
       "      <th>4</th>\n",
       "      <td>-0.981650</td>\n",
       "      <td>-0.782266</td>\n",
       "      <td>2.591194</td>\n",
       "      <td>-0.835671</td>\n",
       "      <td>1.725165</td>\n",
       "      <td>-0.757701</td>\n",
       "      <td>-0.667092</td>\n",
       "      <td>0.993846</td>\n",
       "    </tr>\n",
       "    <tr>\n",
       "      <th>...</th>\n",
       "      <td>...</td>\n",
       "      <td>...</td>\n",
       "      <td>...</td>\n",
       "      <td>...</td>\n",
       "      <td>...</td>\n",
       "      <td>...</td>\n",
       "      <td>...</td>\n",
       "      <td>...</td>\n",
       "    </tr>\n",
       "    <tr>\n",
       "      <th>319</th>\n",
       "      <td>1.018693</td>\n",
       "      <td>-0.782266</td>\n",
       "      <td>-0.385922</td>\n",
       "      <td>-0.101563</td>\n",
       "      <td>-1.641717</td>\n",
       "      <td>0.546967</td>\n",
       "      <td>0.505503</td>\n",
       "      <td>-1.006192</td>\n",
       "    </tr>\n",
       "    <tr>\n",
       "      <th>320</th>\n",
       "      <td>1.018693</td>\n",
       "      <td>-0.782266</td>\n",
       "      <td>-0.385922</td>\n",
       "      <td>0.779367</td>\n",
       "      <td>-1.080570</td>\n",
       "      <td>0.619449</td>\n",
       "      <td>1.678098</td>\n",
       "      <td>0.993846</td>\n",
       "    </tr>\n",
       "    <tr>\n",
       "      <th>321</th>\n",
       "      <td>1.018693</td>\n",
       "      <td>-0.782266</td>\n",
       "      <td>-0.385922</td>\n",
       "      <td>1.219832</td>\n",
       "      <td>-1.029557</td>\n",
       "      <td>1.126819</td>\n",
       "      <td>1.044263</td>\n",
       "      <td>-1.006192</td>\n",
       "    </tr>\n",
       "    <tr>\n",
       "      <th>322</th>\n",
       "      <td>1.018693</td>\n",
       "      <td>-0.782266</td>\n",
       "      <td>-0.385922</td>\n",
       "      <td>1.091363</td>\n",
       "      <td>-0.672463</td>\n",
       "      <td>2.069080</td>\n",
       "      <td>2.248549</td>\n",
       "      <td>0.993846</td>\n",
       "    </tr>\n",
       "    <tr>\n",
       "      <th>323</th>\n",
       "      <td>1.018693</td>\n",
       "      <td>-0.782266</td>\n",
       "      <td>-0.385922</td>\n",
       "      <td>-0.064858</td>\n",
       "      <td>-1.029557</td>\n",
       "      <td>0.909375</td>\n",
       "      <td>0.600578</td>\n",
       "      <td>-1.006192</td>\n",
       "    </tr>\n",
       "  </tbody>\n",
       "</table>\n",
       "<p>324 rows × 8 columns</p>\n",
       "</div>"
      ],
      "text/plain": [
       "     Biscoe_island  Dream_island  Torgersen_island  bill_length_mm  \\\n",
       "0        -0.981650     -0.782266          2.591194       -0.872377   \n",
       "1        -0.981650     -0.782266          2.591194       -0.798966   \n",
       "2        -0.981650     -0.782266          2.591194       -0.652144   \n",
       "3        -0.981650     -0.782266          2.591194       -1.312842   \n",
       "4        -0.981650     -0.782266          2.591194       -0.835671   \n",
       "..             ...           ...               ...             ...   \n",
       "319       1.018693     -0.782266         -0.385922       -0.101563   \n",
       "320       1.018693     -0.782266         -0.385922        0.779367   \n",
       "321       1.018693     -0.782266         -0.385922        1.219832   \n",
       "322       1.018693     -0.782266         -0.385922        1.091363   \n",
       "323       1.018693     -0.782266         -0.385922       -0.064858   \n",
       "\n",
       "     bill_depth_mm  flipper_length_mm  body_mass_g       sex  \n",
       "0         0.755911          -1.410034    -0.540325  0.993846  \n",
       "1         0.092737          -1.047627    -0.476941 -1.006192  \n",
       "2         0.398817          -0.395293    -1.174160 -1.006192  \n",
       "3         1.061991          -0.540256    -0.920626 -1.006192  \n",
       "4         1.725165          -0.757701    -0.667092  0.993846  \n",
       "..             ...                ...          ...       ...  \n",
       "319      -1.641717           0.546967     0.505503 -1.006192  \n",
       "320      -1.080570           0.619449     1.678098  0.993846  \n",
       "321      -1.029557           1.126819     1.044263 -1.006192  \n",
       "322      -0.672463           2.069080     2.248549  0.993846  \n",
       "323      -1.029557           0.909375     0.600578 -1.006192  \n",
       "\n",
       "[324 rows x 8 columns]"
      ]
     },
     "execution_count": 23,
     "metadata": {},
     "output_type": "execute_result"
    }
   ],
   "source": [
    "Xscl"
   ]
  },
  {
   "cell_type": "markdown",
   "id": "17c73bfe",
   "metadata": {},
   "source": [
    "<p> Isolation Forest</p>"
   ]
  },
  {
   "cell_type": "code",
   "execution_count": 25,
   "id": "3f742be7",
   "metadata": {},
   "outputs": [],
   "source": [
    "from sklearn.ensemble import IsolationForest"
   ]
  },
  {
   "cell_type": "code",
   "execution_count": 42,
   "id": "20d052a3",
   "metadata": {
    "collapsed": true
   },
   "outputs": [
    {
     "data": {
      "text/plain": [
       "array([ 1,  1, -1, -1,  1,  1, -1, -1, -1, -1,  1,  1,  1,  1, -1, -1,  1,\n",
       "        1,  1,  1,  1,  1,  1, -1,  1,  1,  1,  1,  1,  1,  1,  1,  1,  1,\n",
       "        1,  1,  1,  1,  1,  1,  1,  1,  1,  1,  1,  1,  1,  1,  1,  1,  1,\n",
       "        1,  1,  1,  1,  1,  1,  1, -1,  1, -1,  1,  1,  1, -1,  1,  1,  1,\n",
       "        1,  1,  1, -1,  1,  1,  1,  1,  1,  1,  1,  1,  1,  1,  1,  1,  1,\n",
       "        1,  1,  1,  1,  1,  1,  1, -1,  1,  1,  1,  1,  1,  1,  1,  1,  1,\n",
       "        1,  1, -1, -1,  1,  1, -1,  1, -1, -1,  1,  1,  1, -1, -1,  1, -1,\n",
       "        1,  1,  1,  1,  1,  1,  1,  1,  1,  1,  1,  1,  1,  1,  1,  1,  1,\n",
       "       -1,  1,  1,  1,  1,  1,  1,  1,  1,  1,  1,  1,  1,  1,  1,  1,  1,\n",
       "        1,  1,  1,  1,  1,  1,  1,  1,  1,  1, -1,  1,  1,  1,  1,  1,  1,\n",
       "        1,  1,  1,  1,  1,  1,  1, -1,  1,  1,  1,  1,  1, -1, -1,  1,  1,\n",
       "        1,  1,  1,  1,  1,  1,  1,  1,  1,  1,  1,  1,  1,  1,  1,  1,  1,\n",
       "        1,  1,  1,  1,  1, -1,  1,  1,  1, -1,  1,  1,  1,  1,  1,  1,  1,\n",
       "        1,  1,  1,  1,  1,  1,  1,  1,  1,  1,  1,  1,  1,  1,  1,  1,  1,\n",
       "       -1,  1,  1,  1,  1,  1,  1,  1, -1,  1,  1,  1,  1,  1,  1,  1,  1,\n",
       "        1,  1,  1,  1,  1,  1,  1,  1,  1,  1,  1,  1,  1,  1,  1,  1,  1,\n",
       "        1,  1,  1,  1, -1,  1,  1,  1,  1,  1,  1,  1,  1,  1,  1,  1,  1,\n",
       "        1,  1,  1,  1,  1,  1,  1,  1,  1,  1,  1,  1,  1,  1,  1,  1,  1,\n",
       "        1,  1,  1,  1,  1,  1,  1, -1,  1,  1,  1,  1,  1,  1,  1,  1,  1,\n",
       "        1])"
      ]
     },
     "execution_count": 42,
     "metadata": {},
     "output_type": "execute_result"
    }
   ],
   "source": [
    "isf=IsolationForest(random_state=40,contamination=0.1)\n",
    "isf.fit_predict(Xscl)"
   ]
  },
  {
   "cell_type": "code",
   "execution_count": 36,
   "id": "f2943a37",
   "metadata": {},
   "outputs": [],
   "source": [
    "Xscl['scores']=isf.decision_function(Xscl)"
   ]
  },
  {
   "cell_type": "code",
   "execution_count": 44,
   "id": "e14a633b",
   "metadata": {},
   "outputs": [],
   "source": [
    "Xscl['anomaly']=isf.fit_predict(Xscl)"
   ]
  },
  {
   "cell_type": "code",
   "execution_count": 60,
   "id": "42af25a9",
   "metadata": {},
   "outputs": [
    {
     "name": "stdout",
     "output_type": "stream",
     "text": [
      "species    Adelie\n",
      "Name: 2, dtype: object\n",
      "species    Adelie\n",
      "Name: 4, dtype: object\n",
      "species    Adelie\n",
      "Name: 7, dtype: object\n",
      "species    Adelie\n",
      "Name: 12, dtype: object\n",
      "species    Adelie\n",
      "Name: 13, dtype: object\n",
      "species    Adelie\n",
      "Name: 14, dtype: object\n",
      "species    Adelie\n",
      "Name: 19, dtype: object\n",
      "species    Adelie\n",
      "Name: 20, dtype: object\n",
      "species    Adelie\n",
      "Name: 28, dtype: object\n",
      "species    Adelie\n",
      "Name: 64, dtype: object\n",
      "species    Adelie\n",
      "Name: 66, dtype: object\n",
      "species    Adelie\n",
      "Name: 70, dtype: object\n",
      "species    Adelie\n",
      "Name: 77, dtype: object\n",
      "species    Adelie\n",
      "Name: 98, dtype: object\n",
      "species    Adelie\n",
      "Name: 110, dtype: object\n",
      "species    Adelie\n",
      "Name: 111, dtype: object\n",
      "species    Adelie\n",
      "Name: 114, dtype: object\n",
      "species    Adelie\n",
      "Name: 116, dtype: object\n",
      "species    Adelie\n",
      "Name: 117, dtype: object\n",
      "species    Adelie\n",
      "Name: 121, dtype: object\n",
      "species    Adelie\n",
      "Name: 122, dtype: object\n",
      "species    Adelie\n",
      "Name: 124, dtype: object\n",
      "species    Adelie\n",
      "Name: 142, dtype: object\n",
      "species    Chinstrap\n",
      "Name: 169, dtype: object\n",
      "species    Chinstrap\n",
      "Name: 183, dtype: object\n",
      "species    Chinstrap\n",
      "Name: 189, dtype: object\n",
      "species    Chinstrap\n",
      "Name: 190, dtype: object\n",
      "species    Chinstrap\n",
      "Name: 215, dtype: object\n",
      "species    Chinstrap\n",
      "Name: 219, dtype: object\n",
      "species    Gentoo\n",
      "Name: 244, dtype: object\n",
      "species    Gentoo\n",
      "Name: 253, dtype: object\n",
      "species    Gentoo\n",
      "Name: 283, dtype: object\n",
      "species    Gentoo\n",
      "Name: 321, dtype: object\n"
     ]
    }
   ],
   "source": [
    "x=list(Xscl[Xscl['anomaly']==-1].index)\n",
    "for i in x:\n",
    "    print(pg[['species']].iloc[i])"
   ]
  },
  {
   "cell_type": "code",
   "execution_count": 98,
   "id": "aedd6d08",
   "metadata": {},
   "outputs": [],
   "source": [
    "from sklearn.manifold import TSNE\n",
    "from sklearn.preprocessing import OneHotEncoder,LabelEncoder\n",
    "import matplotlib.pyplot as plt"
   ]
  },
  {
   "cell_type": "code",
   "execution_count": 99,
   "id": "51e5864a",
   "metadata": {},
   "outputs": [],
   "source": [
    "data=pd.read_csv('https://raw.githubusercontent.com/slmsshk/DataSet/main/penguins.csv').dropna()"
   ]
  },
  {
   "cell_type": "code",
   "execution_count": 100,
   "id": "17ef7354",
   "metadata": {},
   "outputs": [
    {
     "data": {
      "text/html": [
       "<div>\n",
       "<style scoped>\n",
       "    .dataframe tbody tr th:only-of-type {\n",
       "        vertical-align: middle;\n",
       "    }\n",
       "\n",
       "    .dataframe tbody tr th {\n",
       "        vertical-align: top;\n",
       "    }\n",
       "\n",
       "    .dataframe thead th {\n",
       "        text-align: right;\n",
       "    }\n",
       "</style>\n",
       "<table border=\"1\" class=\"dataframe\">\n",
       "  <thead>\n",
       "    <tr style=\"text-align: right;\">\n",
       "      <th></th>\n",
       "      <th>species</th>\n",
       "      <th>island</th>\n",
       "      <th>bill_length_mm</th>\n",
       "      <th>bill_depth_mm</th>\n",
       "      <th>flipper_length_mm</th>\n",
       "      <th>body_mass_g</th>\n",
       "      <th>sex</th>\n",
       "    </tr>\n",
       "  </thead>\n",
       "  <tbody>\n",
       "    <tr>\n",
       "      <th>0</th>\n",
       "      <td>Adelie</td>\n",
       "      <td>Torgersen</td>\n",
       "      <td>39.1</td>\n",
       "      <td>18.7</td>\n",
       "      <td>181.0</td>\n",
       "      <td>3750.0</td>\n",
       "      <td>MALE</td>\n",
       "    </tr>\n",
       "    <tr>\n",
       "      <th>1</th>\n",
       "      <td>Adelie</td>\n",
       "      <td>Torgersen</td>\n",
       "      <td>39.5</td>\n",
       "      <td>17.4</td>\n",
       "      <td>186.0</td>\n",
       "      <td>3800.0</td>\n",
       "      <td>FEMALE</td>\n",
       "    </tr>\n",
       "    <tr>\n",
       "      <th>2</th>\n",
       "      <td>Adelie</td>\n",
       "      <td>Torgersen</td>\n",
       "      <td>40.3</td>\n",
       "      <td>18.0</td>\n",
       "      <td>195.0</td>\n",
       "      <td>3250.0</td>\n",
       "      <td>FEMALE</td>\n",
       "    </tr>\n",
       "    <tr>\n",
       "      <th>4</th>\n",
       "      <td>Adelie</td>\n",
       "      <td>Torgersen</td>\n",
       "      <td>36.7</td>\n",
       "      <td>19.3</td>\n",
       "      <td>193.0</td>\n",
       "      <td>3450.0</td>\n",
       "      <td>FEMALE</td>\n",
       "    </tr>\n",
       "    <tr>\n",
       "      <th>5</th>\n",
       "      <td>Adelie</td>\n",
       "      <td>Torgersen</td>\n",
       "      <td>39.3</td>\n",
       "      <td>20.6</td>\n",
       "      <td>190.0</td>\n",
       "      <td>3650.0</td>\n",
       "      <td>MALE</td>\n",
       "    </tr>\n",
       "  </tbody>\n",
       "</table>\n",
       "</div>"
      ],
      "text/plain": [
       "  species     island  bill_length_mm  bill_depth_mm  flipper_length_mm  \\\n",
       "0  Adelie  Torgersen            39.1           18.7              181.0   \n",
       "1  Adelie  Torgersen            39.5           17.4              186.0   \n",
       "2  Adelie  Torgersen            40.3           18.0              195.0   \n",
       "4  Adelie  Torgersen            36.7           19.3              193.0   \n",
       "5  Adelie  Torgersen            39.3           20.6              190.0   \n",
       "\n",
       "   body_mass_g     sex  \n",
       "0       3750.0    MALE  \n",
       "1       3800.0  FEMALE  \n",
       "2       3250.0  FEMALE  \n",
       "4       3450.0  FEMALE  \n",
       "5       3650.0    MALE  "
      ]
     },
     "execution_count": 100,
     "metadata": {},
     "output_type": "execute_result"
    }
   ],
   "source": [
    "data.head()"
   ]
  },
  {
   "cell_type": "code",
   "execution_count": 101,
   "id": "6a33b5af",
   "metadata": {},
   "outputs": [],
   "source": [
    "le=LabelEncoder()"
   ]
  },
  {
   "cell_type": "code",
   "execution_count": 108,
   "id": "370b1a6f",
   "metadata": {},
   "outputs": [],
   "source": [
    "data.species=le.fit_transform(data.species)"
   ]
  },
  {
   "cell_type": "code",
   "execution_count": 127,
   "id": "c24d0219",
   "metadata": {},
   "outputs": [
    {
     "data": {
      "text/plain": [
       "Biscoe       163\n",
       "Dream        123\n",
       "Torgersen     47\n",
       "Name: island, dtype: int64"
      ]
     },
     "execution_count": 127,
     "metadata": {},
     "output_type": "execute_result"
    }
   ],
   "source": [
    "data.island.value_counts()"
   ]
  },
  {
   "cell_type": "code",
   "execution_count": 109,
   "id": "a1e3a149",
   "metadata": {},
   "outputs": [
    {
     "data": {
      "text/html": [
       "<div>\n",
       "<style scoped>\n",
       "    .dataframe tbody tr th:only-of-type {\n",
       "        vertical-align: middle;\n",
       "    }\n",
       "\n",
       "    .dataframe tbody tr th {\n",
       "        vertical-align: top;\n",
       "    }\n",
       "\n",
       "    .dataframe thead th {\n",
       "        text-align: right;\n",
       "    }\n",
       "</style>\n",
       "<table border=\"1\" class=\"dataframe\">\n",
       "  <thead>\n",
       "    <tr style=\"text-align: right;\">\n",
       "      <th></th>\n",
       "      <th>species</th>\n",
       "      <th>island</th>\n",
       "      <th>bill_length_mm</th>\n",
       "      <th>bill_depth_mm</th>\n",
       "      <th>flipper_length_mm</th>\n",
       "      <th>body_mass_g</th>\n",
       "      <th>sex</th>\n",
       "    </tr>\n",
       "  </thead>\n",
       "  <tbody>\n",
       "    <tr>\n",
       "      <th>0</th>\n",
       "      <td>0</td>\n",
       "      <td>Torgersen</td>\n",
       "      <td>39.1</td>\n",
       "      <td>18.7</td>\n",
       "      <td>181.0</td>\n",
       "      <td>3750.0</td>\n",
       "      <td>1</td>\n",
       "    </tr>\n",
       "    <tr>\n",
       "      <th>1</th>\n",
       "      <td>0</td>\n",
       "      <td>Torgersen</td>\n",
       "      <td>39.5</td>\n",
       "      <td>17.4</td>\n",
       "      <td>186.0</td>\n",
       "      <td>3800.0</td>\n",
       "      <td>0</td>\n",
       "    </tr>\n",
       "    <tr>\n",
       "      <th>2</th>\n",
       "      <td>0</td>\n",
       "      <td>Torgersen</td>\n",
       "      <td>40.3</td>\n",
       "      <td>18.0</td>\n",
       "      <td>195.0</td>\n",
       "      <td>3250.0</td>\n",
       "      <td>0</td>\n",
       "    </tr>\n",
       "    <tr>\n",
       "      <th>4</th>\n",
       "      <td>0</td>\n",
       "      <td>Torgersen</td>\n",
       "      <td>36.7</td>\n",
       "      <td>19.3</td>\n",
       "      <td>193.0</td>\n",
       "      <td>3450.0</td>\n",
       "      <td>0</td>\n",
       "    </tr>\n",
       "    <tr>\n",
       "      <th>5</th>\n",
       "      <td>0</td>\n",
       "      <td>Torgersen</td>\n",
       "      <td>39.3</td>\n",
       "      <td>20.6</td>\n",
       "      <td>190.0</td>\n",
       "      <td>3650.0</td>\n",
       "      <td>1</td>\n",
       "    </tr>\n",
       "  </tbody>\n",
       "</table>\n",
       "</div>"
      ],
      "text/plain": [
       "   species     island  bill_length_mm  bill_depth_mm  flipper_length_mm  \\\n",
       "0        0  Torgersen            39.1           18.7              181.0   \n",
       "1        0  Torgersen            39.5           17.4              186.0   \n",
       "2        0  Torgersen            40.3           18.0              195.0   \n",
       "4        0  Torgersen            36.7           19.3              193.0   \n",
       "5        0  Torgersen            39.3           20.6              190.0   \n",
       "\n",
       "   body_mass_g  sex  \n",
       "0       3750.0    1  \n",
       "1       3800.0    0  \n",
       "2       3250.0    0  \n",
       "4       3450.0    0  \n",
       "5       3650.0    1  "
      ]
     },
     "execution_count": 109,
     "metadata": {},
     "output_type": "execute_result"
    }
   ],
   "source": [
    "data.head()"
   ]
  },
  {
   "cell_type": "code",
   "execution_count": 132,
   "id": "a132ddfe",
   "metadata": {
    "collapsed": true
   },
   "outputs": [
    {
     "data": {
      "text/plain": [
       "species  island     bill_length_mm  bill_depth_mm  flipper_length_mm  body_mass_g  sex\n",
       "0        Torgersen  33.5            19.0           190.0              3600.0       0      1\n",
       "                    41.1            18.6           189.0              3325.0       1      1\n",
       "                    39.3            20.6           190.0              3650.0       1      1\n",
       "                    39.5            17.4           186.0              3800.0       0      1\n",
       "                    39.6            17.2           196.0              3550.0       0      1\n",
       "                    39.7            18.4           190.0              3900.0       1      1\n",
       "                    40.2            17.0           176.0              3450.0       0      1\n",
       "                    40.3            18.0           195.0              3250.0       0      1\n",
       "                    40.6            19.0           199.0              4000.0       1      1\n",
       "                    40.9            16.8           191.0              3700.0       0      1\n",
       "                    41.1            17.6           182.0              3200.0       0      1\n",
       "                    41.4            18.5           202.0              3875.0       1      1\n",
       "                    39.1            18.7           181.0              3750.0       1      1\n",
       "                    41.5            18.3           195.0              4300.0       1      1\n",
       "                    41.8            19.4           198.0              4450.0       1      1\n",
       "                    42.1            19.1           195.0              4000.0       1      1\n",
       "                    42.5            20.7           197.0              4500.0       1      1\n",
       "                    42.8            18.5           195.0              4250.0       1      1\n",
       "                    42.9            17.6           196.0              4700.0       1      1\n",
       "                    43.1            19.2           197.0              3500.0       1      1\n",
       "                    44.1            18.0           210.0              4000.0       1      1\n",
       "                    45.8            18.9           197.0              4150.0       1      1\n",
       "                    39.2            19.6           195.0              4675.0       1      1\n",
       "                    39.0            17.1           191.0              3050.0       0      1\n",
       "                    34.4            18.4           184.0              3325.0       0      1\n",
       "                    36.6            17.8           185.0              3700.0       0      1\n",
       "                    34.6            17.2           189.0              3200.0       0      1\n",
       "                                    21.1           198.0              4400.0       1      1\n",
       "                    35.1            19.4           193.0              4200.0       1      1\n",
       "                    35.2            15.9           186.0              3050.0       0      1\n",
       "                    35.5            17.5           190.0              3700.0       0      1\n",
       "                    35.7            17.0           189.0              3350.0       0      1\n",
       "                    35.9            16.6           190.0              3050.0       0      1\n",
       "                    36.2            16.1           187.0              3550.0       0      1\n",
       "                                    17.2           187.0              3150.0       0      1\n",
       "                    36.7            18.8           187.0              3800.0       0      1\n",
       "                    38.9            17.8           181.0              3625.0       0      1\n",
       "                    36.7            19.3           193.0              3450.0       0      1\n",
       "                    37.2            19.4           184.0              3900.0       1      1\n",
       "                    37.3            20.5           199.0              3775.0       1      1\n",
       "                    37.7            19.8           198.0              3500.0       1      1\n",
       "                    38.5            17.9           190.0              3325.0       0      1\n",
       "                    38.6            17.0           188.0              2900.0       0      1\n",
       "                                    21.2           191.0              3800.0       1      1\n",
       "                    38.7            19.0           195.0              3450.0       0      1\n",
       "                    38.8            17.6           191.0              3275.0       0      1\n",
       "                    46.0            21.5           194.0              4200.0       1      1\n",
       "dtype: int64"
      ]
     },
     "execution_count": 132,
     "metadata": {},
     "output_type": "execute_result"
    }
   ],
   "source": [
    "data[data['island']=='Torgersen'].value_counts()"
   ]
  },
  {
   "cell_type": "code",
   "execution_count": 110,
   "id": "5a1d9609",
   "metadata": {
    "collapsed": true
   },
   "outputs": [
    {
     "data": {
      "text/html": [
       "<div>\n",
       "<style scoped>\n",
       "    .dataframe tbody tr th:only-of-type {\n",
       "        vertical-align: middle;\n",
       "    }\n",
       "\n",
       "    .dataframe tbody tr th {\n",
       "        vertical-align: top;\n",
       "    }\n",
       "\n",
       "    .dataframe thead th {\n",
       "        text-align: right;\n",
       "    }\n",
       "</style>\n",
       "<table border=\"1\" class=\"dataframe\">\n",
       "  <thead>\n",
       "    <tr style=\"text-align: right;\">\n",
       "      <th></th>\n",
       "      <th>species</th>\n",
       "      <th>bill_length_mm</th>\n",
       "      <th>bill_depth_mm</th>\n",
       "      <th>flipper_length_mm</th>\n",
       "      <th>body_mass_g</th>\n",
       "      <th>sex</th>\n",
       "      <th>island_Biscoe</th>\n",
       "      <th>island_Dream</th>\n",
       "      <th>island_Torgersen</th>\n",
       "    </tr>\n",
       "  </thead>\n",
       "  <tbody>\n",
       "    <tr>\n",
       "      <th>0</th>\n",
       "      <td>0</td>\n",
       "      <td>39.1</td>\n",
       "      <td>18.7</td>\n",
       "      <td>181.0</td>\n",
       "      <td>3750.0</td>\n",
       "      <td>1</td>\n",
       "      <td>0</td>\n",
       "      <td>0</td>\n",
       "      <td>1</td>\n",
       "    </tr>\n",
       "    <tr>\n",
       "      <th>1</th>\n",
       "      <td>0</td>\n",
       "      <td>39.5</td>\n",
       "      <td>17.4</td>\n",
       "      <td>186.0</td>\n",
       "      <td>3800.0</td>\n",
       "      <td>0</td>\n",
       "      <td>0</td>\n",
       "      <td>0</td>\n",
       "      <td>1</td>\n",
       "    </tr>\n",
       "    <tr>\n",
       "      <th>2</th>\n",
       "      <td>0</td>\n",
       "      <td>40.3</td>\n",
       "      <td>18.0</td>\n",
       "      <td>195.0</td>\n",
       "      <td>3250.0</td>\n",
       "      <td>0</td>\n",
       "      <td>0</td>\n",
       "      <td>0</td>\n",
       "      <td>1</td>\n",
       "    </tr>\n",
       "    <tr>\n",
       "      <th>4</th>\n",
       "      <td>0</td>\n",
       "      <td>36.7</td>\n",
       "      <td>19.3</td>\n",
       "      <td>193.0</td>\n",
       "      <td>3450.0</td>\n",
       "      <td>0</td>\n",
       "      <td>0</td>\n",
       "      <td>0</td>\n",
       "      <td>1</td>\n",
       "    </tr>\n",
       "    <tr>\n",
       "      <th>5</th>\n",
       "      <td>0</td>\n",
       "      <td>39.3</td>\n",
       "      <td>20.6</td>\n",
       "      <td>190.0</td>\n",
       "      <td>3650.0</td>\n",
       "      <td>1</td>\n",
       "      <td>0</td>\n",
       "      <td>0</td>\n",
       "      <td>1</td>\n",
       "    </tr>\n",
       "  </tbody>\n",
       "</table>\n",
       "</div>"
      ],
      "text/plain": [
       "   species  bill_length_mm  bill_depth_mm  flipper_length_mm  body_mass_g  \\\n",
       "0        0            39.1           18.7              181.0       3750.0   \n",
       "1        0            39.5           17.4              186.0       3800.0   \n",
       "2        0            40.3           18.0              195.0       3250.0   \n",
       "4        0            36.7           19.3              193.0       3450.0   \n",
       "5        0            39.3           20.6              190.0       3650.0   \n",
       "\n",
       "   sex  island_Biscoe  island_Dream  island_Torgersen  \n",
       "0    1              0             0                 1  \n",
       "1    0              0             0                 1  \n",
       "2    0              0             0                 1  \n",
       "4    0              0             0                 1  \n",
       "5    1              0             0                 1  "
      ]
     },
     "execution_count": 110,
     "metadata": {},
     "output_type": "execute_result"
    }
   ],
   "source": [
    "df=pd.get_dummies(data)\n",
    "df.head()"
   ]
  },
  {
   "cell_type": "code",
   "execution_count": 117,
   "id": "bbf236dd",
   "metadata": {},
   "outputs": [],
   "source": [
    "tsne=TSNE()\n",
    "x=pd.DataFrame(tsne.fit_transform(df.iloc[:,1:]))"
   ]
  },
  {
   "cell_type": "code",
   "execution_count": 120,
   "id": "55df6521",
   "metadata": {},
   "outputs": [
    {
     "data": {
      "image/png": "[encoded data removed]",
      "text/plain": [
       "<Figure size 640x480 with 1 Axes>"
      ]
     },
     "metadata": {},
     "output_type": "display_data"
    }
   ],
   "source": [
    "scatter=plt.scatter(x.iloc[:,0],x.iloc[:,1],c=df.iloc[:,0],alpha=0.5)\n",
    "plt.legend(*scatter.legend_elements(),\n",
    "                    loc=\"upper left\", title=\"Classes\")\n",
    "plt.show()"
   ]
  },
  {
   "cell_type": "code",
   "execution_count": 122,
   "id": "644795ce",
   "metadata": {},
   "outputs": [
    {
     "data": {
      "image/png": "[encoded data removed]",
      "text/plain": [
       "<Figure size 640x480 with 1 Axes>"
      ]
     },
     "metadata": {},
     "output_type": "display_data"
    }
   ],
   "source": [
    "\n",
    "scatter=plt.scatter(x.iloc[:,0],x.iloc[:,1],c=le.fit_transform(data.island),alpha=0.5)\n",
    "plt.legend(*scatter.legend_elements(),\n",
    "                    loc=\"upper left\", title=\"Classes\")\n",
    "plt.show()"
   ]
  }
 ],
 "metadata": {
  "kernelspec": {
   "display_name": "Python 3 (ipykernel)",
   "language": "python",
   "name": "python3"
  },
  "language_info": {
   "codemirror_mode": {
    "name": "ipython",
    "version": 3
   },
   "file_extension": ".py",
   "mimetype": "text/x-python",
   "name": "python",
   "nbconvert_exporter": "python",
   "pygments_lexer": "ipython3",
   "version": "3.9.12"
  }
 },
 "nbformat": 4,
 "nbformat_minor": 5
}
